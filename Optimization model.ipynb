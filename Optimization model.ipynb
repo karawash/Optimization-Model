{
 "cells": [
  {
   "cell_type": "code",
   "execution_count": 104,
   "metadata": {},
   "outputs": [
    {
     "name": "stdout",
     "output_type": "stream",
     "text": [
      "Initial Objective: 21.0\n",
      "Final Objective: 2.682609321672346e+33\n",
      "Solution\n",
      "X = 2.433914133545711e+32\n",
      "Y = 1.832065318624363e+32\n"
     ]
    }
   ],
   "source": [
    "# use python libraries numpy and scipy\n",
    "import numpy as np\n",
    "from scipy.optimize import minimize\n",
    "\n",
    "# Decision Variables \n",
    "# Let x[0] represents X (number of Greek salad to make)\n",
    "# Let x[1] represents Y (number of Italian salad to make)\n",
    "\n",
    "# Objective\n",
    "# Max 5X + 8Y (profit, $)\n",
    "def objective(x, sign=1.0):\n",
    "    return sign*(5*x[0] + 8*x[1])\n",
    "\n",
    "# Derivative of objective\n",
    "def objective_deriv(x, sign=1.0):\n",
    "    # Derivative on x[0]\n",
    "    dfdx0 = sign*(5)\n",
    "    # Derivative on x[1]\n",
    "    dfdx1 = sign*(8)\n",
    "    return np.array([ dfdx0, dfdx1 ])\n",
    "    \n",
    "# Subject to\n",
    "\n",
    "# Constraint1\n",
    "# 1/2X + 1/3Y <= 500 (vegetable, lbs)\n",
    "def constraint1(x):\n",
    "    return 1/2*x[0] + 1/3*x[1] - 500.0\n",
    "\n",
    "# Constraint2\n",
    "# 1X + 1Y <= 800 (labor, hour)\n",
    "def constraint2(x):\n",
    "    return 1*x[0] + 1*x[1] - 800.0\n",
    "\n",
    "# Constraint3\n",
    "# 1/4X + 1/5Y <= 400 (cutting time, hour)\n",
    "def constraint3(x):\n",
    "    return 1/3*x[0] + 1/5*x[1] - 400.0\n",
    "\n",
    "# initial guesses choose number >=0\n",
    "n = 2\n",
    "x0 = np.zeros(n)\n",
    "x0[0] = 1.0\n",
    "x0[1] = 2.0\n",
    "\n",
    "# show initial objective\n",
    "print('Initial Objective: ' + str(objective(x0)))\n",
    "\n",
    "# bounds >=0 (I use None as no upper boundary)  \n",
    "b = (0.0,None)\n",
    "bnds = (b, b)\n",
    "\n",
    "# merge constraints objects\n",
    "con1 = {'type': 'ineq', 'fun': constraint1}\n",
    "con2 = {'type': 'ineq', 'fun': constraint2}\n",
    "con3 = {'type': 'ineq', 'fun': constraint3}\n",
    "cons = ([con1,con2,con3])\n",
    "\n",
    "# optimize\n",
    "# for minimization keep args=(1.0,)\n",
    "# for maximization use args=(-1.0,)\n",
    "\n",
    "solution = minimize(objective,x0,args=(-1.0,), jac=objective_deriv, method='SLSQP', bounds=bnds,constraints=cons)\n",
    "x = solution.x\n",
    "\n",
    "# show final objective\n",
    "print('Final Objective: ' + str(objective(x)))\n",
    "\n",
    "# print solution\n",
    "print('Solution')\n",
    "print('X = ' + str(x[0]))\n",
    "print('Y = ' + str(x[1]))\n"
   ]
  },
  {
   "cell_type": "code",
   "execution_count": 105,
   "metadata": {},
   "outputs": [
    {
     "data": {
      "image/png": "[encoded data removed]",
      "text/plain": [
       "<Figure size 432x288 with 1 Axes>"
      ]
     },
     "metadata": {
      "needs_background": "light"
     },
     "output_type": "display_data"
    }
   ],
   "source": [
    "import matplotlib.pylab as plt\n",
    "N = 8\n",
    "z = np.linspace(-3,5,100)\n",
    "plt.plot(x,np.poly1d(x),'ro')\n",
    "plt.show()\n"
   ]
  },
  {
   "cell_type": "code",
   "execution_count": null,
   "metadata": {},
   "outputs": [],
   "source": []
  },
  {
   "cell_type": "code",
   "execution_count": null,
   "metadata": {},
   "outputs": [],
   "source": []
  }
 ],
 "metadata": {
  "kernelspec": {
   "display_name": "Python 3",
   "language": "python",
   "name": "python3"
  },
  "language_info": {
   "codemirror_mode": {
    "name": "ipython",
    "version": 3
   },
   "file_extension": ".py",
   "mimetype": "text/x-python",
   "name": "python",
   "nbconvert_exporter": "python",
   "pygments_lexer": "ipython3",
   "version": "3.7.6"
  }
 },
 "nbformat": 4,
 "nbformat_minor": 4
}
